{
 "cells": [
  {
   "cell_type": "code",
   "execution_count": 1,
   "metadata": {},
   "outputs": [
    {
     "name": "stdout",
     "output_type": "stream",
     "text": [
      "How old are you? How tall are you? How much do you weigh? So, you're 30 old, 1.8 tall and 80 heavy.\n"
     ]
    }
   ],
   "source": [
    "print(\"How old are you?\", end=' ')\n",
    "age = input()\n",
    "print(\"How tall are you?\", end=' ')\n",
    "height = input()\n",
    "print(\"How much do you weigh?\", end=' ')\n",
    "weight = input()\n",
    "\n",
    "print(f\"So, you're {age} old, {height} tall and {weight} heavy.\")"
   ]
  },
  {
   "cell_type": "code",
   "execution_count": null,
   "metadata": {},
   "outputs": [],
   "source": []
  }
 ],
 "metadata": {
  "kernelspec": {
   "display_name": "Python 3",
   "language": "python",
   "name": "python3"
  },
  "language_info": {
   "codemirror_mode": {
    "name": "ipython",
    "version": 3
   },
   "file_extension": ".py",
   "mimetype": "text/x-python",
   "name": "python",
   "nbconvert_exporter": "python",
   "pygments_lexer": "ipython3",
   "version": "3.6.4"
  }
 },
 "nbformat": 4,
 "nbformat_minor": 2
}
